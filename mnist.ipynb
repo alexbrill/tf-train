{
  "nbformat": 4,
  "nbformat_minor": 0,
  "metadata": {
    "colab": {
      "name": "mnist.ipynb",
      "provenance": [],
      "authorship_tag": "ABX9TyNnWxmTy6xh1xfsCt9rTCu+",
      "include_colab_link": true
    },
    "kernelspec": {
      "name": "python3",
      "display_name": "Python 3"
    }
  },
  "cells": [
    {
      "cell_type": "markdown",
      "metadata": {
        "id": "view-in-github",
        "colab_type": "text"
      },
      "source": [
        "<a href=\"https://colab.research.google.com/github/alexbrill/tf-train/blob/main/mnist.ipynb\" target=\"_parent\"><img src=\"https://colab.research.google.com/assets/colab-badge.svg\" alt=\"Open In Colab\"/></a>"
      ]
    },
    {
      "cell_type": "code",
      "metadata": {
        "colab": {
          "base_uri": "https://localhost:8080/"
        },
        "id": "JneIazXSiziO",
        "outputId": "f1b0f083-eab9-4893-ea43-d53afaa0994b"
      },
      "source": [
        "import tensorflow as tf \n",
        "\n",
        "mnist = tf.keras.datasets.mnist\n",
        "(train_images, train_labels),(test_images, test_labels)  = mnist.load_data()"
      ],
      "execution_count": 1,
      "outputs": [
        {
          "output_type": "stream",
          "text": [
            "Downloading data from https://storage.googleapis.com/tensorflow/tf-keras-datasets/mnist.npz\n",
            "11493376/11490434 [==============================] - 0s 0us/step\n"
          ],
          "name": "stdout"
        }
      ]
    },
    {
      "cell_type": "code",
      "metadata": {
        "colab": {
          "base_uri": "https://localhost:8080/",
          "height": 282
        },
        "id": "2EmzywAIjKkZ",
        "outputId": "33dbfa19-04ef-4a0c-c44e-1336cf0a2045"
      },
      "source": [
        "import matplotlib.pyplot as plt\n",
        "\n",
        "plt.imshow(train_images[0], cmap=plt.cm.binary)\n",
        "\n",
        "#print(train_images[0])"
      ],
      "execution_count": 3,
      "outputs": [
        {
          "output_type": "execute_result",
          "data": {
            "text/plain": [
              "<matplotlib.image.AxesImage at 0x7f49dd9e9f90>"
            ]
          },
          "metadata": {
            "tags": []
          },
          "execution_count": 3
        },
        {
          "output_type": "display_data",
          "data": {
            "image/png": "[encoded data removed]",
            "text/plain": [
              "<Figure size 432x288 with 1 Axes>"
            ]
          },
          "metadata": {
            "tags": [],
            "needs_background": "light"
          }
        }
      ]
    },
    {
      "cell_type": "code",
      "metadata": {
        "colab": {
          "base_uri": "https://localhost:8080/"
        },
        "id": "XcNTLc31n_NO",
        "outputId": "b0b167fe-569c-4ad6-abdb-ca6b4a594c2e"
      },
      "source": [
        "train_images.shape"
      ],
      "execution_count": 4,
      "outputs": [
        {
          "output_type": "execute_result",
          "data": {
            "text/plain": [
              "(60000, 28, 28)"
            ]
          },
          "metadata": {
            "tags": []
          },
          "execution_count": 4
        }
      ]
    },
    {
      "cell_type": "code",
      "metadata": {
        "id": "7gH7nWiKjc4F"
      },
      "source": [
        "train_images = train_images / 255.0\n",
        "test_images = test_images / 255.0"
      ],
      "execution_count": 5,
      "outputs": []
    },
    {
      "cell_type": "code",
      "metadata": {
        "id": "AQ0pYkEKjkoM"
      },
      "source": [
        "from keras.utils import to_categorical\n",
        "\n",
        "train_labels = to_categorical(train_labels)\n",
        "test_labels = to_categorical(test_labels)"
      ],
      "execution_count": 6,
      "outputs": []
    },
    {
      "cell_type": "code",
      "metadata": {
        "id": "7HoyCTOpj4H-"
      },
      "source": [
        "from tensorflow.keras.layers import Dense, Activation, Flatten\n",
        "from tensorflow.keras.models import Sequential\n"
      ],
      "execution_count": 13,
      "outputs": []
    },
    {
      "cell_type": "code",
      "metadata": {
        "id": "2opeh1WArfsV"
      },
      "source": [
        "def build_model(opt='adam'):\n",
        "  model = Sequential()\n",
        "  model.add(Flatten())\n",
        "  model.add(Dense(28*28, activation='relu'))\n",
        "  model.add(Dense(28*28/2, activation='relu'))\n",
        "  model.add(Dense(10, activation='softmax'))\n",
        "\n",
        "  model.compile(optimizer='adam', loss='categorical_crossentropy', metrics=['accuracy'])\n",
        "\n",
        "  return model"
      ],
      "execution_count": 69,
      "outputs": []
    },
    {
      "cell_type": "code",
      "metadata": {
        "id": "SWGrlbiHj9td",
        "outputId": "cbc63798-3192-4345-8a22-b41c9003ffff",
        "colab": {
          "base_uri": "https://localhost:8080/"
        }
      },
      "source": [
        "model.summary()"
      ],
      "execution_count": 68,
      "outputs": [
        {
          "output_type": "stream",
          "text": [
            "Model: \"sequential_7\"\n",
            "_________________________________________________________________\n",
            "Layer (type)                 Output Shape              Param #   \n",
            "=================================================================\n",
            "flatten_7 (Flatten)          (None, 784)               0         \n",
            "_________________________________________________________________\n",
            "dense_15 (Dense)             (None, 784)               615440    \n",
            "_________________________________________________________________\n",
            "dense_16 (Dense)             (None, 392)               307720    \n",
            "_________________________________________________________________\n",
            "dense_17 (Dense)             (None, 10)                3930      \n",
            "=================================================================\n",
            "Total params: 927,090\n",
            "Trainable params: 927,090\n",
            "Non-trainable params: 0\n",
            "_________________________________________________________________\n"
          ],
          "name": "stdout"
        }
      ]
    },
    {
      "cell_type": "code",
      "metadata": {
        "colab": {
          "base_uri": "https://localhost:8080/"
        },
        "id": "KrcoIB3ykOkl",
        "outputId": "80291ffd-fe88-4e5d-b542-6d631f178ba0"
      },
      "source": [
        "model = build_model()\n",
        "model.fit(train_images, train_labels, validation_data=(test_images, test_labels), epochs=10, batch_size=128)"
      ],
      "execution_count": 54,
      "outputs": [
        {
          "output_type": "stream",
          "text": [
            "Epoch 1/10\n",
            "469/469 [==============================] - 11s 22ms/step - loss: 0.3823 - accuracy: 0.8861 - val_loss: 0.1076 - val_accuracy: 0.9636\n",
            "Epoch 2/10\n",
            "469/469 [==============================] - 10s 21ms/step - loss: 0.0810 - accuracy: 0.9749 - val_loss: 0.0729 - val_accuracy: 0.9762\n",
            "Epoch 3/10\n",
            "469/469 [==============================] - 10s 21ms/step - loss: 0.0474 - accuracy: 0.9853 - val_loss: 0.0682 - val_accuracy: 0.9775\n",
            "Epoch 4/10\n",
            "469/469 [==============================] - 10s 21ms/step - loss: 0.0303 - accuracy: 0.9898 - val_loss: 0.0683 - val_accuracy: 0.9771\n",
            "Epoch 5/10\n",
            "469/469 [==============================] - 10s 21ms/step - loss: 0.0221 - accuracy: 0.9929 - val_loss: 0.0649 - val_accuracy: 0.9814\n",
            "Epoch 6/10\n",
            "469/469 [==============================] - 10s 21ms/step - loss: 0.0194 - accuracy: 0.9934 - val_loss: 0.0718 - val_accuracy: 0.9802\n",
            "Epoch 7/10\n",
            "469/469 [==============================] - 10s 21ms/step - loss: 0.0125 - accuracy: 0.9962 - val_loss: 0.0776 - val_accuracy: 0.9795\n",
            "Epoch 8/10\n",
            "469/469 [==============================] - 10s 21ms/step - loss: 0.0189 - accuracy: 0.9935 - val_loss: 0.0684 - val_accuracy: 0.9826\n",
            "Epoch 9/10\n",
            "469/469 [==============================] - 10s 21ms/step - loss: 0.0108 - accuracy: 0.9965 - val_loss: 0.0701 - val_accuracy: 0.9829\n",
            "Epoch 10/10\n",
            "469/469 [==============================] - 10s 21ms/step - loss: 0.0117 - accuracy: 0.9958 - val_loss: 0.0873 - val_accuracy: 0.9799\n"
          ],
          "name": "stdout"
        },
        {
          "output_type": "execute_result",
          "data": {
            "text/plain": [
              "<tensorflow.python.keras.callbacks.History at 0x7f49ccb0fc50>"
            ]
          },
          "metadata": {
            "tags": []
          },
          "execution_count": 54
        }
      ]
    },
    {
      "cell_type": "code",
      "metadata": {
        "id": "08_50XAcrefL",
        "outputId": "3248d8ff-4e9d-4060-93c8-c51d66372852",
        "colab": {
          "base_uri": "https://localhost:8080/"
        }
      },
      "source": [
        "model = build_model()\n",
        "%time model.fit(train_images, train_labels, validation_data=(test_images, test_labels), epochs=9, batch_size=128)"
      ],
      "execution_count": 67,
      "outputs": [
        {
          "output_type": "stream",
          "text": [
            "Epoch 1/9\n",
            "469/469 [==============================] - 11s 21ms/step - loss: 0.3872 - accuracy: 0.8854 - val_loss: 0.0929 - val_accuracy: 0.9702\n",
            "Epoch 2/9\n",
            "469/469 [==============================] - 10s 21ms/step - loss: 0.0777 - accuracy: 0.9763 - val_loss: 0.0729 - val_accuracy: 0.9760\n",
            "Epoch 3/9\n",
            "469/469 [==============================] - 10s 21ms/step - loss: 0.0466 - accuracy: 0.9847 - val_loss: 0.0771 - val_accuracy: 0.9764\n",
            "Epoch 4/9\n",
            "469/469 [==============================] - 10s 21ms/step - loss: 0.0320 - accuracy: 0.9890 - val_loss: 0.0790 - val_accuracy: 0.9745\n",
            "Epoch 5/9\n",
            "469/469 [==============================] - 10s 21ms/step - loss: 0.0259 - accuracy: 0.9914 - val_loss: 0.0776 - val_accuracy: 0.9779\n",
            "Epoch 6/9\n",
            "469/469 [==============================] - 10s 20ms/step - loss: 0.0195 - accuracy: 0.9935 - val_loss: 0.0809 - val_accuracy: 0.9784\n",
            "Epoch 7/9\n",
            "469/469 [==============================] - 10s 21ms/step - loss: 0.0158 - accuracy: 0.9943 - val_loss: 0.0649 - val_accuracy: 0.9823\n",
            "Epoch 8/9\n",
            "469/469 [==============================] - 10s 21ms/step - loss: 0.0139 - accuracy: 0.9954 - val_loss: 0.0894 - val_accuracy: 0.9793\n",
            "Epoch 9/9\n",
            "469/469 [==============================] - 10s 21ms/step - loss: 0.0188 - accuracy: 0.9933 - val_loss: 0.0737 - val_accuracy: 0.9819\n",
            "CPU times: user 2min 21s, sys: 4.72 s, total: 2min 26s\n",
            "Wall time: 1min 28s\n"
          ],
          "name": "stdout"
        },
        {
          "output_type": "execute_result",
          "data": {
            "text/plain": [
              "<tensorflow.python.keras.callbacks.History at 0x7f49cdf1bc90>"
            ]
          },
          "metadata": {
            "tags": []
          },
          "execution_count": 67
        }
      ]
    },
    {
      "cell_type": "code",
      "metadata": {
        "id": "w9q1y0DA_M_e"
      },
      "source": [
        ""
      ],
      "execution_count": null,
      "outputs": []
    },
    {
      "cell_type": "code",
      "metadata": {
        "id": "hoOM0rCh_NCi",
        "outputId": "b8390532-53f0-436b-f54f-05dcac7d55d2",
        "colab": {
          "base_uri": "https://localhost:8080/"
        }
      },
      "source": [
        "model = build_model('rmsprop')\n",
        "%time model.fit(train_images, train_labels, validation_data=(test_images, test_labels), epochs=9, batch_size=128)"
      ],
      "execution_count": 70,
      "outputs": [
        {
          "output_type": "stream",
          "text": [
            "Epoch 1/9\n",
            "469/469 [==============================] - 10s 20ms/step - loss: 0.3824 - accuracy: 0.8893 - val_loss: 0.0985 - val_accuracy: 0.9702\n",
            "Epoch 2/9\n",
            "469/469 [==============================] - 10s 21ms/step - loss: 0.0812 - accuracy: 0.9747 - val_loss: 0.0778 - val_accuracy: 0.9753\n",
            "Epoch 3/9\n",
            "469/469 [==============================] - 10s 21ms/step - loss: 0.0465 - accuracy: 0.9853 - val_loss: 0.0662 - val_accuracy: 0.9788\n",
            "Epoch 4/9\n",
            "469/469 [==============================] - 10s 21ms/step - loss: 0.0318 - accuracy: 0.9904 - val_loss: 0.0750 - val_accuracy: 0.9792\n",
            "Epoch 5/9\n",
            "469/469 [==============================] - 10s 21ms/step - loss: 0.0220 - accuracy: 0.9925 - val_loss: 0.0752 - val_accuracy: 0.9784\n",
            "Epoch 6/9\n",
            "469/469 [==============================] - 10s 21ms/step - loss: 0.0195 - accuracy: 0.9933 - val_loss: 0.0671 - val_accuracy: 0.9823\n",
            "Epoch 7/9\n",
            "469/469 [==============================] - 10s 21ms/step - loss: 0.0188 - accuracy: 0.9941 - val_loss: 0.0833 - val_accuracy: 0.9800\n",
            "Epoch 8/9\n",
            "469/469 [==============================] - 10s 21ms/step - loss: 0.0136 - accuracy: 0.9958 - val_loss: 0.0788 - val_accuracy: 0.9809\n",
            "Epoch 9/9\n",
            "469/469 [==============================] - 10s 21ms/step - loss: 0.0133 - accuracy: 0.9959 - val_loss: 0.0770 - val_accuracy: 0.9817\n",
            "CPU times: user 2min 22s, sys: 5.11 s, total: 2min 27s\n",
            "Wall time: 1min 28s\n"
          ],
          "name": "stdout"
        },
        {
          "output_type": "execute_result",
          "data": {
            "text/plain": [
              "<tensorflow.python.keras.callbacks.History at 0x7f49cbf34ad0>"
            ]
          },
          "metadata": {
            "tags": []
          },
          "execution_count": 70
        }
      ]
    },
    {
      "cell_type": "code",
      "metadata": {
        "id": "JBLojIPx_NEd",
        "outputId": "a41802f8-199a-4298-ae28-44a7b7a42810",
        "colab": {
          "base_uri": "https://localhost:8080/"
        }
      },
      "source": [
        "model = build_model('sgd')\n",
        "%time model.fit(train_images, train_labels, validation_data=(test_images, test_labels), epochs=9, batch_size=128)"
      ],
      "execution_count": 71,
      "outputs": [
        {
          "output_type": "stream",
          "text": [
            "Epoch 1/9\n",
            "469/469 [==============================] - 11s 22ms/step - loss: 0.3785 - accuracy: 0.8863 - val_loss: 0.1064 - val_accuracy: 0.9660\n",
            "Epoch 2/9\n",
            "469/469 [==============================] - 10s 21ms/step - loss: 0.0777 - accuracy: 0.9751 - val_loss: 0.0708 - val_accuracy: 0.9780\n",
            "Epoch 3/9\n",
            "469/469 [==============================] - 10s 21ms/step - loss: 0.0444 - accuracy: 0.9860 - val_loss: 0.0781 - val_accuracy: 0.9769\n",
            "Epoch 4/9\n",
            "469/469 [==============================] - 10s 21ms/step - loss: 0.0344 - accuracy: 0.9888 - val_loss: 0.0751 - val_accuracy: 0.9773\n",
            "Epoch 5/9\n",
            "469/469 [==============================] - 10s 21ms/step - loss: 0.0255 - accuracy: 0.9924 - val_loss: 0.0674 - val_accuracy: 0.9802\n",
            "Epoch 6/9\n",
            "469/469 [==============================] - 10s 21ms/step - loss: 0.0166 - accuracy: 0.9950 - val_loss: 0.0728 - val_accuracy: 0.9816\n",
            "Epoch 7/9\n",
            "469/469 [==============================] - 10s 21ms/step - loss: 0.0151 - accuracy: 0.9945 - val_loss: 0.0862 - val_accuracy: 0.9787\n",
            "Epoch 8/9\n",
            "469/469 [==============================] - 10s 21ms/step - loss: 0.0172 - accuracy: 0.9945 - val_loss: 0.0966 - val_accuracy: 0.9766\n",
            "Epoch 9/9\n",
            "469/469 [==============================] - 10s 22ms/step - loss: 0.0108 - accuracy: 0.9963 - val_loss: 0.0901 - val_accuracy: 0.9797\n",
            "CPU times: user 2min 24s, sys: 5.16 s, total: 2min 29s\n",
            "Wall time: 1min 30s\n"
          ],
          "name": "stdout"
        },
        {
          "output_type": "execute_result",
          "data": {
            "text/plain": [
              "<tensorflow.python.keras.callbacks.History at 0x7f49ccbd2390>"
            ]
          },
          "metadata": {
            "tags": []
          },
          "execution_count": 71
        }
      ]
    },
    {
      "cell_type": "code",
      "metadata": {
        "id": "irFLP27G_NGf",
        "outputId": "2bdf8f30-d80c-4543-8d5e-e9e79c8dd8d8",
        "colab": {
          "base_uri": "https://localhost:8080/"
        }
      },
      "source": [
        "model = build_model('adamax')\n",
        "%time model.fit(train_images, train_labels, validation_data=(test_images, test_labels), epochs=9, batch_size=128)"
      ],
      "execution_count": 72,
      "outputs": [
        {
          "output_type": "stream",
          "text": [
            "Epoch 1/9\n",
            "469/469 [==============================] - 11s 22ms/step - loss: 0.3790 - accuracy: 0.8865 - val_loss: 0.1024 - val_accuracy: 0.9690\n",
            "Epoch 2/9\n",
            "469/469 [==============================] - 10s 21ms/step - loss: 0.0788 - accuracy: 0.9753 - val_loss: 0.0792 - val_accuracy: 0.9736\n",
            "Epoch 3/9\n",
            "469/469 [==============================] - 10s 21ms/step - loss: 0.0444 - accuracy: 0.9860 - val_loss: 0.0639 - val_accuracy: 0.9795\n",
            "Epoch 4/9\n",
            "469/469 [==============================] - 10s 21ms/step - loss: 0.0326 - accuracy: 0.9894 - val_loss: 0.0632 - val_accuracy: 0.9814\n",
            "Epoch 5/9\n",
            "469/469 [==============================] - 10s 21ms/step - loss: 0.0237 - accuracy: 0.9929 - val_loss: 0.0754 - val_accuracy: 0.9783\n",
            "Epoch 6/9\n",
            "469/469 [==============================] - 10s 21ms/step - loss: 0.0188 - accuracy: 0.9942 - val_loss: 0.0745 - val_accuracy: 0.9780\n",
            "Epoch 7/9\n",
            "469/469 [==============================] - 10s 21ms/step - loss: 0.0175 - accuracy: 0.9944 - val_loss: 0.0881 - val_accuracy: 0.9773\n",
            "Epoch 8/9\n",
            "469/469 [==============================] - 10s 21ms/step - loss: 0.0143 - accuracy: 0.9951 - val_loss: 0.0875 - val_accuracy: 0.9795\n",
            "Epoch 9/9\n",
            "469/469 [==============================] - 10s 21ms/step - loss: 0.0147 - accuracy: 0.9956 - val_loss: 0.1078 - val_accuracy: 0.9761\n",
            "CPU times: user 2min 24s, sys: 5.46 s, total: 2min 30s\n",
            "Wall time: 1min 30s\n"
          ],
          "name": "stdout"
        },
        {
          "output_type": "execute_result",
          "data": {
            "text/plain": [
              "<tensorflow.python.keras.callbacks.History at 0x7f49cc14f990>"
            ]
          },
          "metadata": {
            "tags": []
          },
          "execution_count": 72
        }
      ]
    },
    {
      "cell_type": "code",
      "metadata": {
        "id": "Kx7qhzvL_NJJ"
      },
      "source": [
        ""
      ],
      "execution_count": null,
      "outputs": []
    },
    {
      "cell_type": "code",
      "metadata": {
        "id": "D4VOSunA_NLe"
      },
      "source": [
        ""
      ],
      "execution_count": null,
      "outputs": []
    },
    {
      "cell_type": "code",
      "metadata": {
        "id": "mJwwxsDs_NOE"
      },
      "source": [
        ""
      ],
      "execution_count": null,
      "outputs": []
    },
    {
      "cell_type": "code",
      "metadata": {
        "colab": {
          "resources": {
            "http://localhost:8080/nbextensions/google.colab/files.js": {
              "data": "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",
              "ok": true,
              "headers": [
                [
                  "content-type",
                  "application/javascript"
                ]
              ],
              "status": 200,
              "status_text": "OK"
            }
          },
          "base_uri": "https://localhost:8080/",
          "height": 351
        },
        "id": "I9U8hS6Aky7z",
        "outputId": "aa244074-4e75-48b4-cd23-f99ec1fe1fbd"
      },
      "source": [
        "import numpy as np\n",
        "from google.colab import files\n",
        "from keras.preprocessing import image\n",
        "from skimage.color import rgb2gray\n",
        "\n",
        "uploaded = files.upload()\n",
        "\n",
        "for fn in uploaded.keys(): \n",
        "  path = '/content/' + fn\n",
        "  img = image.load_img(path, target_size=(28, 28))  \n",
        "\n",
        "  x = image.img_to_array(img)\n",
        "  x = 1 - (rgb2gray(x) / 255)\n",
        "\n",
        "  plt.imshow(x, cmap=plt.cm.binary)\n",
        "\n",
        "  x = np.expand_dims(x, axis=0)\n",
        "  x = np.vstack([x])  \n",
        "\n",
        "  classes = model.predict(x)\n",
        "\n",
        "  print('PREDICTION: This is', np.argmax(classes))"
      ],
      "execution_count": 66,
      "outputs": [
        {
          "output_type": "display_data",
          "data": {
            "text/html": [
              "\n",
              "     <input type=\"file\" id=\"files-977045b4-1dc6-4838-b387-ade93587d480\" name=\"files[]\" multiple disabled\n",
              "        style=\"border:none\" />\n",
              "     <output id=\"result-977045b4-1dc6-4838-b387-ade93587d480\">\n",
              "      Upload widget is only available when the cell has been executed in the\n",
              "      current browser session. Please rerun this cell to enable.\n",
              "      </output>\n",
              "      <script src=\"/nbextensions/google.colab/files.js\"></script> "
            ],
            "text/plain": [
              "<IPython.core.display.HTML object>"
            ]
          },
          "metadata": {
            "tags": []
          }
        },
        {
          "output_type": "stream",
          "text": [
            "Saving rLBdQ.jpg to rLBdQ (3).jpg\n",
            "PREDICTION: This is 2\n"
          ],
          "name": "stdout"
        },
        {
          "output_type": "display_data",
          "data": {
            "image/png": "[encoded data removed]",
            "text/plain": [
              "<Figure size 432x288 with 1 Axes>"
            ]
          },
          "metadata": {
            "tags": [],
            "needs_background": "light"
          }
        }
      ]
    },
    {
      "cell_type": "code",
      "metadata": {
        "id": "pNl_O-c8sdGz"
      },
      "source": [
        ""
      ],
      "execution_count": null,
      "outputs": []
    },
    {
      "cell_type": "code",
      "metadata": {
        "id": "KuUpNz69ogjA"
      },
      "source": [
        "v"
      ],
      "execution_count": null,
      "outputs": []
    }
  ]
}