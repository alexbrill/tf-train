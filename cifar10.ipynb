{
  "nbformat": 4,
  "nbformat_minor": 0,
  "metadata": {
    "colab": {
      "name": "cifar10.ipynb",
      "provenance": [],
      "authorship_tag": "ABX9TyOPPuHZWSRHvDqezdm2sGGI",
      "include_colab_link": true
    },
    "kernelspec": {
      "name": "python3",
      "display_name": "Python 3"
    },
    "accelerator": "GPU"
  },
  "cells": [
    {
      "cell_type": "markdown",
      "metadata": {
        "id": "view-in-github",
        "colab_type": "text"
      },
      "source": [
        "<a href=\"https://colab.research.google.com/github/alexbrill/tf-train/blob/main/cifar10.ipynb\" target=\"_parent\"><img src=\"https://colab.research.google.com/assets/colab-badge.svg\" alt=\"Open In Colab\"/></a>"
      ]
    },
    {
      "cell_type": "code",
      "metadata": {
        "id": "vTAnoIH8vHAP"
      },
      "source": [
        "from keras.datasets import cifar10"
      ],
      "execution_count": 2,
      "outputs": []
    },
    {
      "cell_type": "code",
      "metadata": {
        "id": "Vkft5Wl12sPb"
      },
      "source": [
        "(X_train, y_train), (X_test, y_test) = cifar10.load_data()"
      ],
      "execution_count": 22,
      "outputs": []
    },
    {
      "cell_type": "code",
      "metadata": {
        "colab": {
          "base_uri": "https://localhost:8080/",
          "height": 283
        },
        "id": "Dg6md31B26b9",
        "outputId": "dd86a6fd-e6d7-4b20-a4f2-07e202c290fb"
      },
      "source": [
        "import matplotlib.pyplot as plt\n",
        "\n",
        "plt.imshow(X_train[1])\n",
        "print(y_train[1])"
      ],
      "execution_count": 4,
      "outputs": [
        {
          "output_type": "stream",
          "text": [
            "[9]\n"
          ],
          "name": "stdout"
        },
        {
          "output_type": "display_data",
          "data": {
            "image/png": "[encoded data removed]",
            "text/plain": [
              "<Figure size 432x288 with 1 Axes>"
            ]
          },
          "metadata": {
            "tags": [],
            "needs_background": "light"
          }
        }
      ]
    },
    {
      "cell_type": "code",
      "metadata": {
        "id": "upBasJit3B-6"
      },
      "source": [
        "batch_size = 32 # in each iteration, we consider 32 training examples at once\n",
        "num_epochs = 200 # we iterate 200 times over the entire training set\n",
        "kernel_size = 3 # we will use 3x3 kernels throughout\n",
        "pool_size = 2 # we will use 2x2 pooling throughout\n",
        "conv_depth_1 = 32 # we will initially have 32 kernels per conv. layer...\n",
        "conv_depth_2 = 64 # ...switching to 64 after the first pooling layer\n",
        "drop_prob_1 = 0.25 # dropout after pooling with probability 0.25\n",
        "drop_prob_2 = 0.5 # dropout in the dense layer with probability 0.5\n",
        "hidden_size = 512 # the dense layer will have 512 neurons"
      ],
      "execution_count": 5,
      "outputs": []
    },
    {
      "cell_type": "code",
      "metadata": {
        "id": "Zl8-vUrX3bmm"
      },
      "source": [
        "import numpy as np\n",
        "from keras.utils import np_utils\n",
        "\n",
        "num_train, depth, height, width = X_train.shape # there are 50000 training examples in CIFAR-10\n",
        "num_test = X_test.shape[0] # there are 10000 test examples in CIFAR-10\n",
        "num_classes = np.unique(y_train).shape[0] # there are 10 image classes\n",
        "\n",
        "X_train = X_train.astype('float32')\n",
        "X_test = X_test.astype('float32')\n",
        "\n",
        "X_train /= 255 # Normalise data to [0, 1] range\n",
        "X_test /= 255 # Normalise data to [0, 1] range\n",
        "\n",
        "Y_train = np_utils.to_categorical(y_train, num_classes) # One-hot encode the labels\n",
        "Y_test = np_utils.to_categorical(y_test, num_classes) # One-hot encode the labels"
      ],
      "execution_count": 23,
      "outputs": []
    },
    {
      "cell_type": "code",
      "metadata": {
        "colab": {
          "base_uri": "https://localhost:8080/"
        },
        "id": "uzEQa-OJ4T4p",
        "outputId": "94a48a08-4dd7-499b-c41f-8c803e9205ec"
      },
      "source": [
        "from keras.models import Model\n",
        "from keras.layers import Input, Convolution2D, MaxPooling2D, Dense, Dropout, Flatten\n",
        "\n",
        "inp = Input(shape=(depth, height, width)) # N.B. depth goes first in Keras\n",
        "\n",
        "# Conv [32] -> Conv [32] -> Pool (with dropout on the pooling layer)\n",
        "conv_1 = Convolution2D(conv_depth_1, kernel_size, kernel_size, padding='same', activation='relu')(inp)\n",
        "conv_2 = Convolution2D(conv_depth_1, kernel_size, kernel_size, padding='same', activation='relu')(conv_1)\n",
        "pool_1 = MaxPooling2D(pool_size=(pool_size, pool_size), padding='same')(conv_2)\n",
        "drop_1 = Dropout(drop_prob_1)(pool_1)\n",
        "\n",
        "# Conv [64] -> Conv [64] -> Pool (with dropout on the pooling layer)\n",
        "conv_3 = Convolution2D(conv_depth_2, kernel_size, kernel_size, padding='same', activation='relu')(drop_1)\n",
        "conv_4 = Convolution2D(conv_depth_2, kernel_size, kernel_size, padding='same', activation='relu')(conv_3)\n",
        "pool_2 = MaxPooling2D(pool_size=(pool_size, pool_size), padding='same')(conv_4)\n",
        "drop_2 = Dropout(drop_prob_1)(pool_2)\n",
        "\n",
        "# Now flatten to 1D, apply Dense -> ReLU (with dropout) -> softmax\n",
        "flat = Flatten()(drop_2)\n",
        "hidden = Dense(hidden_size, activation='relu')(flat)\n",
        "drop_3 = Dropout(drop_prob_2)(hidden)\n",
        "out = Dense(num_classes, activation='softmax')(drop_3)\n",
        "\n",
        "model = Model(inputs=inp, outputs=out) # To define a model, just specify its input and output layers\n",
        "\n",
        "model.compile(loss='categorical_crossentropy', # using the cross-entropy loss function\n",
        "              optimizer='adam', # using the Adam optimiser\n",
        "              metrics=['accuracy']) # reporting the accuracy\n",
        "\n",
        "model.fit(X_train, Y_train, # Train the model using the training set...\n",
        "          batch_size=batch_size, epochs=num_epochs,\n",
        "          verbose=1, validation_split=0.1) # ...holding out 10% of the data for validation\n",
        "\n",
        "model.evaluate(X_test, Y_test, verbose=1) # Evaluate the trained model on the test set!"
      ],
      "execution_count": 7,
      "outputs": [
        {
          "output_type": "stream",
          "text": [
            "Epoch 1/200\n",
            "1407/1407 [==============================] - 12s 4ms/step - loss: 2.0481 - accuracy: 0.2112 - val_loss: 1.6782 - val_accuracy: 0.3684\n",
            "Epoch 2/200\n",
            "1407/1407 [==============================] - 5s 3ms/step - loss: 1.7100 - accuracy: 0.3534 - val_loss: 1.5439 - val_accuracy: 0.4228\n",
            "Epoch 3/200\n",
            "1407/1407 [==============================] - 5s 3ms/step - loss: 1.6227 - accuracy: 0.3985 - val_loss: 1.4827 - val_accuracy: 0.4618\n",
            "Epoch 4/200\n",
            "1407/1407 [==============================] - 5s 3ms/step - loss: 1.5765 - accuracy: 0.4154 - val_loss: 1.4664 - val_accuracy: 0.4626\n",
            "Epoch 5/200\n",
            "1407/1407 [==============================] - 5s 3ms/step - loss: 1.5360 - accuracy: 0.4378 - val_loss: 1.4298 - val_accuracy: 0.4770\n",
            "Epoch 6/200\n",
            "1407/1407 [==============================] - 5s 3ms/step - loss: 1.5023 - accuracy: 0.4506 - val_loss: 1.4139 - val_accuracy: 0.4922\n",
            "Epoch 7/200\n",
            "1407/1407 [==============================] - 5s 4ms/step - loss: 1.4735 - accuracy: 0.4642 - val_loss: 1.3672 - val_accuracy: 0.5026\n",
            "Epoch 8/200\n",
            "1407/1407 [==============================] - 5s 3ms/step - loss: 1.4526 - accuracy: 0.4768 - val_loss: 1.3664 - val_accuracy: 0.5052\n",
            "Epoch 9/200\n",
            "1407/1407 [==============================] - 5s 3ms/step - loss: 1.4298 - accuracy: 0.4867 - val_loss: 1.3687 - val_accuracy: 0.5034\n",
            "Epoch 10/200\n",
            "1407/1407 [==============================] - 5s 4ms/step - loss: 1.4182 - accuracy: 0.4898 - val_loss: 1.3381 - val_accuracy: 0.5206\n",
            "Epoch 11/200\n",
            "1407/1407 [==============================] - 5s 3ms/step - loss: 1.4005 - accuracy: 0.4950 - val_loss: 1.3032 - val_accuracy: 0.5364\n",
            "Epoch 12/200\n",
            "1407/1407 [==============================] - 5s 3ms/step - loss: 1.3965 - accuracy: 0.4952 - val_loss: 1.3112 - val_accuracy: 0.5318\n",
            "Epoch 13/200\n",
            "1407/1407 [==============================] - 5s 3ms/step - loss: 1.3807 - accuracy: 0.5046 - val_loss: 1.2971 - val_accuracy: 0.5324\n",
            "Epoch 14/200\n",
            "1407/1407 [==============================] - 5s 3ms/step - loss: 1.3810 - accuracy: 0.5068 - val_loss: 1.3063 - val_accuracy: 0.5326\n",
            "Epoch 15/200\n",
            "1407/1407 [==============================] - 5s 3ms/step - loss: 1.3609 - accuracy: 0.5079 - val_loss: 1.2760 - val_accuracy: 0.5424\n",
            "Epoch 16/200\n",
            "1407/1407 [==============================] - 5s 3ms/step - loss: 1.3595 - accuracy: 0.5136 - val_loss: 1.2796 - val_accuracy: 0.5446\n",
            "Epoch 17/200\n",
            "1407/1407 [==============================] - 5s 4ms/step - loss: 1.3448 - accuracy: 0.5193 - val_loss: 1.2770 - val_accuracy: 0.5452\n",
            "Epoch 18/200\n",
            "1407/1407 [==============================] - 5s 4ms/step - loss: 1.3342 - accuracy: 0.5176 - val_loss: 1.2529 - val_accuracy: 0.5492\n",
            "Epoch 19/200\n",
            "1407/1407 [==============================] - 5s 4ms/step - loss: 1.3361 - accuracy: 0.5236 - val_loss: 1.2462 - val_accuracy: 0.5502\n",
            "Epoch 20/200\n",
            "1407/1407 [==============================] - 5s 3ms/step - loss: 1.3211 - accuracy: 0.5287 - val_loss: 1.2563 - val_accuracy: 0.5588\n",
            "Epoch 21/200\n",
            "1407/1407 [==============================] - 5s 3ms/step - loss: 1.3171 - accuracy: 0.5312 - val_loss: 1.2487 - val_accuracy: 0.5494\n",
            "Epoch 22/200\n",
            "1407/1407 [==============================] - 5s 4ms/step - loss: 1.3111 - accuracy: 0.5320 - val_loss: 1.2709 - val_accuracy: 0.5500\n",
            "Epoch 23/200\n",
            "1407/1407 [==============================] - 5s 3ms/step - loss: 1.3117 - accuracy: 0.5309 - val_loss: 1.2452 - val_accuracy: 0.5608\n",
            "Epoch 24/200\n",
            "1407/1407 [==============================] - 5s 3ms/step - loss: 1.3101 - accuracy: 0.5340 - val_loss: 1.2404 - val_accuracy: 0.5620\n",
            "Epoch 25/200\n",
            "1407/1407 [==============================] - 5s 3ms/step - loss: 1.3099 - accuracy: 0.5322 - val_loss: 1.2296 - val_accuracy: 0.5628\n",
            "Epoch 26/200\n",
            "1407/1407 [==============================] - 5s 3ms/step - loss: 1.2876 - accuracy: 0.5413 - val_loss: 1.2475 - val_accuracy: 0.5668\n",
            "Epoch 27/200\n",
            "1407/1407 [==============================] - 5s 3ms/step - loss: 1.2949 - accuracy: 0.5372 - val_loss: 1.2500 - val_accuracy: 0.5564\n",
            "Epoch 28/200\n",
            "1407/1407 [==============================] - 5s 3ms/step - loss: 1.2826 - accuracy: 0.5441 - val_loss: 1.2355 - val_accuracy: 0.5560\n",
            "Epoch 29/200\n",
            "1407/1407 [==============================] - 5s 3ms/step - loss: 1.2892 - accuracy: 0.5370 - val_loss: 1.2353 - val_accuracy: 0.5620\n",
            "Epoch 30/200\n",
            "1407/1407 [==============================] - 5s 3ms/step - loss: 1.2769 - accuracy: 0.5448 - val_loss: 1.2368 - val_accuracy: 0.5650\n",
            "Epoch 31/200\n",
            "1407/1407 [==============================] - 5s 3ms/step - loss: 1.2740 - accuracy: 0.5429 - val_loss: 1.2181 - val_accuracy: 0.5674\n",
            "Epoch 32/200\n",
            "1407/1407 [==============================] - 5s 3ms/step - loss: 1.2697 - accuracy: 0.5445 - val_loss: 1.2320 - val_accuracy: 0.5648\n",
            "Epoch 33/200\n",
            "1407/1407 [==============================] - 5s 3ms/step - loss: 1.2709 - accuracy: 0.5472 - val_loss: 1.2274 - val_accuracy: 0.5636\n",
            "Epoch 34/200\n",
            "1407/1407 [==============================] - 5s 3ms/step - loss: 1.2639 - accuracy: 0.5481 - val_loss: 1.2244 - val_accuracy: 0.5622\n",
            "Epoch 35/200\n",
            "1407/1407 [==============================] - 5s 4ms/step - loss: 1.2727 - accuracy: 0.5453 - val_loss: 1.2209 - val_accuracy: 0.5666\n",
            "Epoch 36/200\n",
            "1407/1407 [==============================] - 5s 3ms/step - loss: 1.2652 - accuracy: 0.5467 - val_loss: 1.2133 - val_accuracy: 0.5706\n",
            "Epoch 37/200\n",
            "1407/1407 [==============================] - 5s 3ms/step - loss: 1.2541 - accuracy: 0.5553 - val_loss: 1.2443 - val_accuracy: 0.5622\n",
            "Epoch 38/200\n",
            "1407/1407 [==============================] - 5s 3ms/step - loss: 1.2639 - accuracy: 0.5502 - val_loss: 1.2283 - val_accuracy: 0.5758\n",
            "Epoch 39/200\n",
            "1407/1407 [==============================] - 5s 3ms/step - loss: 1.2616 - accuracy: 0.5512 - val_loss: 1.2201 - val_accuracy: 0.5654\n",
            "Epoch 40/200\n",
            "1407/1407 [==============================] - 5s 3ms/step - loss: 1.2535 - accuracy: 0.5533 - val_loss: 1.2194 - val_accuracy: 0.5746\n",
            "Epoch 41/200\n",
            "1407/1407 [==============================] - 5s 3ms/step - loss: 1.2530 - accuracy: 0.5531 - val_loss: 1.2123 - val_accuracy: 0.5760\n",
            "Epoch 42/200\n",
            "1407/1407 [==============================] - 5s 3ms/step - loss: 1.2524 - accuracy: 0.5537 - val_loss: 1.2323 - val_accuracy: 0.5608\n",
            "Epoch 43/200\n",
            "1407/1407 [==============================] - 5s 4ms/step - loss: 1.2493 - accuracy: 0.5547 - val_loss: 1.2333 - val_accuracy: 0.5644\n",
            "Epoch 44/200\n",
            "1407/1407 [==============================] - 5s 3ms/step - loss: 1.2373 - accuracy: 0.5573 - val_loss: 1.2261 - val_accuracy: 0.5720\n",
            "Epoch 45/200\n",
            "1407/1407 [==============================] - 5s 3ms/step - loss: 1.2309 - accuracy: 0.5609 - val_loss: 1.2011 - val_accuracy: 0.5800\n",
            "Epoch 46/200\n",
            "1407/1407 [==============================] - 5s 3ms/step - loss: 1.2489 - accuracy: 0.5558 - val_loss: 1.2033 - val_accuracy: 0.5716\n",
            "Epoch 47/200\n",
            "1407/1407 [==============================] - 5s 4ms/step - loss: 1.2473 - accuracy: 0.5589 - val_loss: 1.2019 - val_accuracy: 0.5750\n",
            "Epoch 48/200\n",
            "1407/1407 [==============================] - 5s 3ms/step - loss: 1.2315 - accuracy: 0.5584 - val_loss: 1.2205 - val_accuracy: 0.5680\n",
            "Epoch 49/200\n",
            "1407/1407 [==============================] - 5s 3ms/step - loss: 1.2250 - accuracy: 0.5670 - val_loss: 1.2120 - val_accuracy: 0.5740\n",
            "Epoch 50/200\n",
            "1407/1407 [==============================] - 5s 3ms/step - loss: 1.2298 - accuracy: 0.5668 - val_loss: 1.2215 - val_accuracy: 0.5686\n",
            "Epoch 51/200\n",
            "1407/1407 [==============================] - 5s 3ms/step - loss: 1.2314 - accuracy: 0.5646 - val_loss: 1.1893 - val_accuracy: 0.5770\n",
            "Epoch 52/200\n",
            "1407/1407 [==============================] - 5s 3ms/step - loss: 1.2205 - accuracy: 0.5658 - val_loss: 1.1945 - val_accuracy: 0.5760\n",
            "Epoch 53/200\n",
            "1407/1407 [==============================] - 5s 4ms/step - loss: 1.2444 - accuracy: 0.5597 - val_loss: 1.2150 - val_accuracy: 0.5696\n",
            "Epoch 54/200\n",
            "1407/1407 [==============================] - 5s 3ms/step - loss: 1.2302 - accuracy: 0.5653 - val_loss: 1.2171 - val_accuracy: 0.5690\n",
            "Epoch 55/200\n",
            "1407/1407 [==============================] - 5s 3ms/step - loss: 1.2342 - accuracy: 0.5589 - val_loss: 1.2015 - val_accuracy: 0.5776\n",
            "Epoch 56/200\n",
            "1407/1407 [==============================] - 5s 3ms/step - loss: 1.2220 - accuracy: 0.5672 - val_loss: 1.1985 - val_accuracy: 0.5834\n",
            "Epoch 57/200\n",
            "1407/1407 [==============================] - 5s 4ms/step - loss: 1.2135 - accuracy: 0.5714 - val_loss: 1.2075 - val_accuracy: 0.5720\n",
            "Epoch 58/200\n",
            "1407/1407 [==============================] - 5s 4ms/step - loss: 1.2220 - accuracy: 0.5641 - val_loss: 1.2112 - val_accuracy: 0.5704\n",
            "Epoch 59/200\n",
            "1407/1407 [==============================] - 5s 4ms/step - loss: 1.2211 - accuracy: 0.5652 - val_loss: 1.2074 - val_accuracy: 0.5674\n",
            "Epoch 60/200\n",
            "1407/1407 [==============================] - 5s 3ms/step - loss: 1.2178 - accuracy: 0.5674 - val_loss: 1.2193 - val_accuracy: 0.5704\n",
            "Epoch 61/200\n",
            "1407/1407 [==============================] - 5s 3ms/step - loss: 1.1984 - accuracy: 0.5723 - val_loss: 1.2071 - val_accuracy: 0.5740\n",
            "Epoch 62/200\n",
            "1407/1407 [==============================] - 5s 4ms/step - loss: 1.2096 - accuracy: 0.5698 - val_loss: 1.2096 - val_accuracy: 0.5724\n",
            "Epoch 63/200\n",
            "1407/1407 [==============================] - 5s 3ms/step - loss: 1.2087 - accuracy: 0.5659 - val_loss: 1.1920 - val_accuracy: 0.5762\n",
            "Epoch 64/200\n",
            "1407/1407 [==============================] - 5s 3ms/step - loss: 1.2067 - accuracy: 0.5688 - val_loss: 1.2069 - val_accuracy: 0.5688\n",
            "Epoch 65/200\n",
            "1407/1407 [==============================] - 5s 3ms/step - loss: 1.2095 - accuracy: 0.5689 - val_loss: 1.1894 - val_accuracy: 0.5802\n",
            "Epoch 66/200\n",
            "1407/1407 [==============================] - 5s 3ms/step - loss: 1.2129 - accuracy: 0.5703 - val_loss: 1.1912 - val_accuracy: 0.5790\n",
            "Epoch 67/200\n",
            "1407/1407 [==============================] - 5s 3ms/step - loss: 1.2126 - accuracy: 0.5730 - val_loss: 1.2020 - val_accuracy: 0.5838\n",
            "Epoch 68/200\n",
            "1407/1407 [==============================] - 5s 4ms/step - loss: 1.2038 - accuracy: 0.5700 - val_loss: 1.2066 - val_accuracy: 0.5762\n",
            "Epoch 69/200\n",
            "1407/1407 [==============================] - 5s 3ms/step - loss: 1.2114 - accuracy: 0.5699 - val_loss: 1.2222 - val_accuracy: 0.5746\n",
            "Epoch 70/200\n",
            "1407/1407 [==============================] - 5s 4ms/step - loss: 1.1980 - accuracy: 0.5723 - val_loss: 1.2192 - val_accuracy: 0.5620\n",
            "Epoch 71/200\n",
            "1407/1407 [==============================] - 5s 3ms/step - loss: 1.2076 - accuracy: 0.5751 - val_loss: 1.1891 - val_accuracy: 0.5786\n",
            "Epoch 72/200\n",
            "1407/1407 [==============================] - 5s 4ms/step - loss: 1.1911 - accuracy: 0.5765 - val_loss: 1.2131 - val_accuracy: 0.5796\n",
            "Epoch 73/200\n",
            "1407/1407 [==============================] - 5s 3ms/step - loss: 1.2134 - accuracy: 0.5666 - val_loss: 1.2250 - val_accuracy: 0.5630\n",
            "Epoch 74/200\n",
            "1407/1407 [==============================] - 5s 3ms/step - loss: 1.2135 - accuracy: 0.5695 - val_loss: 1.2014 - val_accuracy: 0.5772\n",
            "Epoch 75/200\n",
            "1407/1407 [==============================] - 5s 3ms/step - loss: 1.1975 - accuracy: 0.5770 - val_loss: 1.2132 - val_accuracy: 0.5752\n",
            "Epoch 76/200\n",
            "1407/1407 [==============================] - 5s 3ms/step - loss: 1.1907 - accuracy: 0.5793 - val_loss: 1.2057 - val_accuracy: 0.5732\n",
            "Epoch 77/200\n",
            "1407/1407 [==============================] - 5s 3ms/step - loss: 1.1825 - accuracy: 0.5823 - val_loss: 1.2065 - val_accuracy: 0.5774\n",
            "Epoch 78/200\n",
            "1407/1407 [==============================] - 5s 4ms/step - loss: 1.2055 - accuracy: 0.5744 - val_loss: 1.1958 - val_accuracy: 0.5808\n",
            "Epoch 79/200\n",
            "1407/1407 [==============================] - 5s 4ms/step - loss: 1.1924 - accuracy: 0.5742 - val_loss: 1.2432 - val_accuracy: 0.5656\n",
            "Epoch 80/200\n",
            "1407/1407 [==============================] - 5s 4ms/step - loss: 1.1840 - accuracy: 0.5787 - val_loss: 1.1984 - val_accuracy: 0.5794\n",
            "Epoch 81/200\n",
            "1407/1407 [==============================] - 5s 4ms/step - loss: 1.1910 - accuracy: 0.5803 - val_loss: 1.1891 - val_accuracy: 0.5820\n",
            "Epoch 82/200\n",
            "1407/1407 [==============================] - 5s 4ms/step - loss: 1.1830 - accuracy: 0.5786 - val_loss: 1.2066 - val_accuracy: 0.5832\n",
            "Epoch 83/200\n",
            "1407/1407 [==============================] - 5s 3ms/step - loss: 1.1804 - accuracy: 0.5801 - val_loss: 1.1982 - val_accuracy: 0.5786\n",
            "Epoch 84/200\n",
            "1407/1407 [==============================] - 5s 4ms/step - loss: 1.1937 - accuracy: 0.5758 - val_loss: 1.2065 - val_accuracy: 0.5646\n",
            "Epoch 85/200\n",
            "1407/1407 [==============================] - 5s 3ms/step - loss: 1.1846 - accuracy: 0.5804 - val_loss: 1.1734 - val_accuracy: 0.5832\n",
            "Epoch 86/200\n",
            "1407/1407 [==============================] - 5s 4ms/step - loss: 1.1773 - accuracy: 0.5802 - val_loss: 1.1996 - val_accuracy: 0.5750\n",
            "Epoch 87/200\n",
            "1407/1407 [==============================] - 5s 3ms/step - loss: 1.1826 - accuracy: 0.5825 - val_loss: 1.2150 - val_accuracy: 0.5712\n",
            "Epoch 88/200\n",
            "1407/1407 [==============================] - 5s 3ms/step - loss: 1.1771 - accuracy: 0.5819 - val_loss: 1.2135 - val_accuracy: 0.5736\n",
            "Epoch 89/200\n",
            "1407/1407 [==============================] - 5s 3ms/step - loss: 1.1835 - accuracy: 0.5800 - val_loss: 1.2028 - val_accuracy: 0.5810\n",
            "Epoch 90/200\n",
            "1407/1407 [==============================] - 5s 3ms/step - loss: 1.1740 - accuracy: 0.5837 - val_loss: 1.1913 - val_accuracy: 0.5792\n",
            "Epoch 91/200\n",
            "1407/1407 [==============================] - 5s 3ms/step - loss: 1.1796 - accuracy: 0.5819 - val_loss: 1.1961 - val_accuracy: 0.5760\n",
            "Epoch 92/200\n",
            "1407/1407 [==============================] - 5s 3ms/step - loss: 1.1871 - accuracy: 0.5774 - val_loss: 1.1994 - val_accuracy: 0.5772\n",
            "Epoch 93/200\n",
            "1407/1407 [==============================] - 5s 3ms/step - loss: 1.1857 - accuracy: 0.5822 - val_loss: 1.1992 - val_accuracy: 0.5724\n",
            "Epoch 94/200\n",
            "1407/1407 [==============================] - 5s 3ms/step - loss: 1.1973 - accuracy: 0.5728 - val_loss: 1.1768 - val_accuracy: 0.5828\n",
            "Epoch 95/200\n",
            "1407/1407 [==============================] - 5s 3ms/step - loss: 1.1738 - accuracy: 0.5870 - val_loss: 1.1782 - val_accuracy: 0.5842\n",
            "Epoch 96/200\n",
            "1407/1407 [==============================] - 5s 4ms/step - loss: 1.1906 - accuracy: 0.5758 - val_loss: 1.1906 - val_accuracy: 0.5776\n",
            "Epoch 97/200\n",
            "1407/1407 [==============================] - 5s 4ms/step - loss: 1.1740 - accuracy: 0.5845 - val_loss: 1.2085 - val_accuracy: 0.5784\n",
            "Epoch 98/200\n",
            "1407/1407 [==============================] - 5s 3ms/step - loss: 1.1669 - accuracy: 0.5854 - val_loss: 1.1908 - val_accuracy: 0.5826\n",
            "Epoch 99/200\n",
            "1407/1407 [==============================] - 5s 4ms/step - loss: 1.1653 - accuracy: 0.5871 - val_loss: 1.2107 - val_accuracy: 0.5696\n",
            "Epoch 100/200\n",
            "1407/1407 [==============================] - 5s 3ms/step - loss: 1.1713 - accuracy: 0.5854 - val_loss: 1.1756 - val_accuracy: 0.5840\n",
            "Epoch 101/200\n",
            "1407/1407 [==============================] - 5s 4ms/step - loss: 1.1707 - accuracy: 0.5814 - val_loss: 1.1936 - val_accuracy: 0.5788\n",
            "Epoch 102/200\n",
            "1407/1407 [==============================] - 5s 4ms/step - loss: 1.1741 - accuracy: 0.5846 - val_loss: 1.1826 - val_accuracy: 0.5816\n",
            "Epoch 103/200\n",
            "1407/1407 [==============================] - 5s 4ms/step - loss: 1.1735 - accuracy: 0.5855 - val_loss: 1.1878 - val_accuracy: 0.5838\n",
            "Epoch 104/200\n",
            "1407/1407 [==============================] - 5s 4ms/step - loss: 1.1694 - accuracy: 0.5872 - val_loss: 1.1842 - val_accuracy: 0.5796\n",
            "Epoch 105/200\n",
            "1407/1407 [==============================] - 5s 4ms/step - loss: 1.1658 - accuracy: 0.5892 - val_loss: 1.1969 - val_accuracy: 0.5806\n",
            "Epoch 106/200\n",
            "1407/1407 [==============================] - 5s 4ms/step - loss: 1.1660 - accuracy: 0.5835 - val_loss: 1.2011 - val_accuracy: 0.5802\n",
            "Epoch 107/200\n",
            "1407/1407 [==============================] - 5s 3ms/step - loss: 1.1728 - accuracy: 0.5858 - val_loss: 1.2194 - val_accuracy: 0.5698\n",
            "Epoch 108/200\n",
            "1407/1407 [==============================] - 5s 4ms/step - loss: 1.1798 - accuracy: 0.5834 - val_loss: 1.1815 - val_accuracy: 0.5800\n",
            "Epoch 109/200\n",
            "1407/1407 [==============================] - 5s 4ms/step - loss: 1.1618 - accuracy: 0.5899 - val_loss: 1.1963 - val_accuracy: 0.5792\n",
            "Epoch 110/200\n",
            "1407/1407 [==============================] - 5s 4ms/step - loss: 1.1754 - accuracy: 0.5803 - val_loss: 1.1972 - val_accuracy: 0.5794\n",
            "Epoch 111/200\n",
            "1407/1407 [==============================] - 5s 4ms/step - loss: 1.1714 - accuracy: 0.5810 - val_loss: 1.1893 - val_accuracy: 0.5784\n",
            "Epoch 112/200\n",
            "1407/1407 [==============================] - 5s 4ms/step - loss: 1.1697 - accuracy: 0.5848 - val_loss: 1.1786 - val_accuracy: 0.5852\n",
            "Epoch 113/200\n",
            "1407/1407 [==============================] - 5s 3ms/step - loss: 1.1585 - accuracy: 0.5893 - val_loss: 1.1894 - val_accuracy: 0.5820\n",
            "Epoch 114/200\n",
            "1407/1407 [==============================] - 5s 4ms/step - loss: 1.1729 - accuracy: 0.5848 - val_loss: 1.1851 - val_accuracy: 0.5884\n",
            "Epoch 115/200\n",
            "1407/1407 [==============================] - 5s 4ms/step - loss: 1.1703 - accuracy: 0.5859 - val_loss: 1.1809 - val_accuracy: 0.5874\n",
            "Epoch 116/200\n",
            "1407/1407 [==============================] - 5s 4ms/step - loss: 1.1722 - accuracy: 0.5848 - val_loss: 1.2125 - val_accuracy: 0.5764\n",
            "Epoch 117/200\n",
            "1407/1407 [==============================] - 5s 4ms/step - loss: 1.1638 - accuracy: 0.5868 - val_loss: 1.1907 - val_accuracy: 0.5820\n",
            "Epoch 118/200\n",
            "1407/1407 [==============================] - 5s 4ms/step - loss: 1.1753 - accuracy: 0.5856 - val_loss: 1.1908 - val_accuracy: 0.5810\n",
            "Epoch 119/200\n",
            "1407/1407 [==============================] - 5s 4ms/step - loss: 1.1728 - accuracy: 0.5890 - val_loss: 1.1868 - val_accuracy: 0.5794\n",
            "Epoch 120/200\n",
            "1407/1407 [==============================] - 5s 4ms/step - loss: 1.1668 - accuracy: 0.5896 - val_loss: 1.1805 - val_accuracy: 0.5844\n",
            "Epoch 121/200\n",
            "1407/1407 [==============================] - 5s 4ms/step - loss: 1.1549 - accuracy: 0.5898 - val_loss: 1.2033 - val_accuracy: 0.5724\n",
            "Epoch 122/200\n",
            "1407/1407 [==============================] - 5s 4ms/step - loss: 1.1615 - accuracy: 0.5865 - val_loss: 1.1879 - val_accuracy: 0.5822\n",
            "Epoch 123/200\n",
            "1407/1407 [==============================] - 5s 4ms/step - loss: 1.1598 - accuracy: 0.5863 - val_loss: 1.1875 - val_accuracy: 0.5766\n",
            "Epoch 124/200\n",
            "1407/1407 [==============================] - 5s 4ms/step - loss: 1.1663 - accuracy: 0.5865 - val_loss: 1.1947 - val_accuracy: 0.5858\n",
            "Epoch 125/200\n",
            "1407/1407 [==============================] - 5s 4ms/step - loss: 1.1598 - accuracy: 0.5904 - val_loss: 1.1907 - val_accuracy: 0.5758\n",
            "Epoch 126/200\n",
            "1407/1407 [==============================] - 5s 4ms/step - loss: 1.1661 - accuracy: 0.5857 - val_loss: 1.1748 - val_accuracy: 0.5816\n",
            "Epoch 127/200\n",
            "1407/1407 [==============================] - 5s 3ms/step - loss: 1.1641 - accuracy: 0.5870 - val_loss: 1.1846 - val_accuracy: 0.5824\n",
            "Epoch 128/200\n",
            "1407/1407 [==============================] - 5s 4ms/step - loss: 1.1489 - accuracy: 0.5912 - val_loss: 1.1736 - val_accuracy: 0.5834\n",
            "Epoch 129/200\n",
            "1407/1407 [==============================] - 5s 4ms/step - loss: 1.1554 - accuracy: 0.5899 - val_loss: 1.1945 - val_accuracy: 0.5790\n",
            "Epoch 130/200\n",
            "1407/1407 [==============================] - 5s 4ms/step - loss: 1.1570 - accuracy: 0.5918 - val_loss: 1.1685 - val_accuracy: 0.5782\n",
            "Epoch 131/200\n",
            "1407/1407 [==============================] - 5s 4ms/step - loss: 1.1600 - accuracy: 0.5882 - val_loss: 1.2007 - val_accuracy: 0.5780\n",
            "Epoch 132/200\n",
            "1407/1407 [==============================] - 5s 4ms/step - loss: 1.1533 - accuracy: 0.5947 - val_loss: 1.1754 - val_accuracy: 0.5836\n",
            "Epoch 133/200\n",
            "1407/1407 [==============================] - 5s 4ms/step - loss: 1.1590 - accuracy: 0.5931 - val_loss: 1.1769 - val_accuracy: 0.5870\n",
            "Epoch 134/200\n",
            "1407/1407 [==============================] - 5s 4ms/step - loss: 1.1759 - accuracy: 0.5828 - val_loss: 1.1949 - val_accuracy: 0.5800\n",
            "Epoch 135/200\n",
            "1407/1407 [==============================] - 5s 3ms/step - loss: 1.1573 - accuracy: 0.5902 - val_loss: 1.1950 - val_accuracy: 0.5762\n",
            "Epoch 136/200\n",
            "1407/1407 [==============================] - 5s 4ms/step - loss: 1.1591 - accuracy: 0.5911 - val_loss: 1.1949 - val_accuracy: 0.5756\n",
            "Epoch 137/200\n",
            "1407/1407 [==============================] - 5s 4ms/step - loss: 1.1567 - accuracy: 0.5921 - val_loss: 1.1820 - val_accuracy: 0.5786\n",
            "Epoch 138/200\n",
            "1407/1407 [==============================] - 5s 4ms/step - loss: 1.1490 - accuracy: 0.5927 - val_loss: 1.1972 - val_accuracy: 0.5748\n",
            "Epoch 139/200\n",
            "1407/1407 [==============================] - 5s 3ms/step - loss: 1.1659 - accuracy: 0.5884 - val_loss: 1.1781 - val_accuracy: 0.5850\n",
            "Epoch 140/200\n",
            "1407/1407 [==============================] - 5s 4ms/step - loss: 1.1500 - accuracy: 0.5914 - val_loss: 1.1828 - val_accuracy: 0.5868\n",
            "Epoch 141/200\n",
            "1407/1407 [==============================] - 5s 4ms/step - loss: 1.1500 - accuracy: 0.5937 - val_loss: 1.1854 - val_accuracy: 0.5796\n",
            "Epoch 142/200\n",
            "1407/1407 [==============================] - 5s 4ms/step - loss: 1.1483 - accuracy: 0.5959 - val_loss: 1.2084 - val_accuracy: 0.5708\n",
            "Epoch 143/200\n",
            "1407/1407 [==============================] - 5s 4ms/step - loss: 1.1511 - accuracy: 0.5937 - val_loss: 1.1996 - val_accuracy: 0.5802\n",
            "Epoch 144/200\n",
            "1407/1407 [==============================] - 5s 4ms/step - loss: 1.1493 - accuracy: 0.5901 - val_loss: 1.1813 - val_accuracy: 0.5720\n",
            "Epoch 145/200\n",
            "1407/1407 [==============================] - 5s 4ms/step - loss: 1.1568 - accuracy: 0.5898 - val_loss: 1.1903 - val_accuracy: 0.5790\n",
            "Epoch 146/200\n",
            "1407/1407 [==============================] - 5s 3ms/step - loss: 1.1389 - accuracy: 0.5925 - val_loss: 1.1749 - val_accuracy: 0.5858\n",
            "Epoch 147/200\n",
            "1407/1407 [==============================] - 5s 4ms/step - loss: 1.1403 - accuracy: 0.5943 - val_loss: 1.1848 - val_accuracy: 0.5826\n",
            "Epoch 148/200\n",
            "1407/1407 [==============================] - 5s 3ms/step - loss: 1.1396 - accuracy: 0.5965 - val_loss: 1.1803 - val_accuracy: 0.5838\n",
            "Epoch 149/200\n",
            "1407/1407 [==============================] - 5s 4ms/step - loss: 1.1519 - accuracy: 0.5897 - val_loss: 1.1850 - val_accuracy: 0.5798\n",
            "Epoch 150/200\n",
            "1407/1407 [==============================] - 5s 4ms/step - loss: 1.1480 - accuracy: 0.5951 - val_loss: 1.1935 - val_accuracy: 0.5858\n",
            "Epoch 151/200\n",
            "1407/1407 [==============================] - 5s 4ms/step - loss: 1.1490 - accuracy: 0.5927 - val_loss: 1.2097 - val_accuracy: 0.5690\n",
            "Epoch 152/200\n",
            "1407/1407 [==============================] - 5s 3ms/step - loss: 1.1438 - accuracy: 0.5947 - val_loss: 1.1707 - val_accuracy: 0.5878\n",
            "Epoch 153/200\n",
            "1407/1407 [==============================] - 5s 4ms/step - loss: 1.1628 - accuracy: 0.5906 - val_loss: 1.1754 - val_accuracy: 0.5846\n",
            "Epoch 154/200\n",
            "1407/1407 [==============================] - 5s 4ms/step - loss: 1.1460 - accuracy: 0.5873 - val_loss: 1.1851 - val_accuracy: 0.5826\n",
            "Epoch 155/200\n",
            "1407/1407 [==============================] - 5s 4ms/step - loss: 1.1515 - accuracy: 0.5932 - val_loss: 1.1902 - val_accuracy: 0.5724\n",
            "Epoch 156/200\n",
            "1407/1407 [==============================] - 5s 4ms/step - loss: 1.1539 - accuracy: 0.5939 - val_loss: 1.1641 - val_accuracy: 0.5912\n",
            "Epoch 157/200\n",
            "1407/1407 [==============================] - 5s 4ms/step - loss: 1.1442 - accuracy: 0.5959 - val_loss: 1.2053 - val_accuracy: 0.5792\n",
            "Epoch 158/200\n",
            "1407/1407 [==============================] - 5s 4ms/step - loss: 1.1490 - accuracy: 0.5939 - val_loss: 1.1822 - val_accuracy: 0.5840\n",
            "Epoch 159/200\n",
            "1407/1407 [==============================] - 5s 4ms/step - loss: 1.1480 - accuracy: 0.5950 - val_loss: 1.1919 - val_accuracy: 0.5822\n",
            "Epoch 160/200\n",
            "1407/1407 [==============================] - 5s 4ms/step - loss: 1.1481 - accuracy: 0.5899 - val_loss: 1.1717 - val_accuracy: 0.5886\n",
            "Epoch 161/200\n",
            "1407/1407 [==============================] - 5s 4ms/step - loss: 1.1491 - accuracy: 0.5900 - val_loss: 1.1782 - val_accuracy: 0.5842\n",
            "Epoch 162/200\n",
            "1407/1407 [==============================] - 5s 4ms/step - loss: 1.1496 - accuracy: 0.5937 - val_loss: 1.1672 - val_accuracy: 0.5888\n",
            "Epoch 163/200\n",
            "1407/1407 [==============================] - 5s 4ms/step - loss: 1.1568 - accuracy: 0.5940 - val_loss: 1.1681 - val_accuracy: 0.5920\n",
            "Epoch 164/200\n",
            "1407/1407 [==============================] - 5s 4ms/step - loss: 1.1472 - accuracy: 0.5891 - val_loss: 1.1703 - val_accuracy: 0.5932\n",
            "Epoch 165/200\n",
            "1407/1407 [==============================] - 5s 3ms/step - loss: 1.1443 - accuracy: 0.5956 - val_loss: 1.1666 - val_accuracy: 0.5930\n",
            "Epoch 166/200\n",
            "1407/1407 [==============================] - 5s 4ms/step - loss: 1.1402 - accuracy: 0.5945 - val_loss: 1.1855 - val_accuracy: 0.5868\n",
            "Epoch 167/200\n",
            "1407/1407 [==============================] - 5s 4ms/step - loss: 1.1507 - accuracy: 0.5921 - val_loss: 1.1852 - val_accuracy: 0.5770\n",
            "Epoch 168/200\n",
            "1407/1407 [==============================] - 5s 4ms/step - loss: 1.1473 - accuracy: 0.5938 - val_loss: 1.1788 - val_accuracy: 0.5954\n",
            "Epoch 169/200\n",
            "1407/1407 [==============================] - 5s 4ms/step - loss: 1.1413 - accuracy: 0.5957 - val_loss: 1.1781 - val_accuracy: 0.5866\n",
            "Epoch 170/200\n",
            "1407/1407 [==============================] - 5s 4ms/step - loss: 1.1391 - accuracy: 0.5957 - val_loss: 1.1758 - val_accuracy: 0.5900\n",
            "Epoch 171/200\n",
            "1407/1407 [==============================] - 5s 4ms/step - loss: 1.1405 - accuracy: 0.5954 - val_loss: 1.1822 - val_accuracy: 0.5834\n",
            "Epoch 172/200\n",
            "1407/1407 [==============================] - 5s 4ms/step - loss: 1.1402 - accuracy: 0.5958 - val_loss: 1.1813 - val_accuracy: 0.5864\n",
            "Epoch 173/200\n",
            "1407/1407 [==============================] - 5s 4ms/step - loss: 1.1459 - accuracy: 0.5950 - val_loss: 1.1654 - val_accuracy: 0.5890\n",
            "Epoch 174/200\n",
            "1407/1407 [==============================] - 5s 3ms/step - loss: 1.1493 - accuracy: 0.5961 - val_loss: 1.1765 - val_accuracy: 0.5894\n",
            "Epoch 175/200\n",
            "1407/1407 [==============================] - 5s 4ms/step - loss: 1.1449 - accuracy: 0.5955 - val_loss: 1.1757 - val_accuracy: 0.5838\n",
            "Epoch 176/200\n",
            "1407/1407 [==============================] - 5s 4ms/step - loss: 1.1378 - accuracy: 0.6018 - val_loss: 1.1769 - val_accuracy: 0.5836\n",
            "Epoch 177/200\n",
            "1407/1407 [==============================] - 5s 4ms/step - loss: 1.1468 - accuracy: 0.5959 - val_loss: 1.1785 - val_accuracy: 0.5850\n",
            "Epoch 178/200\n",
            "1407/1407 [==============================] - 5s 4ms/step - loss: 1.1553 - accuracy: 0.5929 - val_loss: 1.1805 - val_accuracy: 0.5876\n",
            "Epoch 179/200\n",
            "1407/1407 [==============================] - 5s 4ms/step - loss: 1.1321 - accuracy: 0.5985 - val_loss: 1.1929 - val_accuracy: 0.5820\n",
            "Epoch 180/200\n",
            "1407/1407 [==============================] - 5s 4ms/step - loss: 1.1318 - accuracy: 0.6013 - val_loss: 1.1810 - val_accuracy: 0.5828\n",
            "Epoch 181/200\n",
            "1407/1407 [==============================] - 5s 4ms/step - loss: 1.1427 - accuracy: 0.5960 - val_loss: 1.1774 - val_accuracy: 0.5918\n",
            "Epoch 182/200\n",
            "1407/1407 [==============================] - 5s 4ms/step - loss: 1.1458 - accuracy: 0.5972 - val_loss: 1.1901 - val_accuracy: 0.5856\n",
            "Epoch 183/200\n",
            "1407/1407 [==============================] - 5s 4ms/step - loss: 1.1413 - accuracy: 0.5978 - val_loss: 1.1832 - val_accuracy: 0.5856\n",
            "Epoch 184/200\n",
            "1407/1407 [==============================] - 5s 4ms/step - loss: 1.1284 - accuracy: 0.6019 - val_loss: 1.1820 - val_accuracy: 0.5832\n",
            "Epoch 185/200\n",
            "1407/1407 [==============================] - 5s 4ms/step - loss: 1.1425 - accuracy: 0.6012 - val_loss: 1.1963 - val_accuracy: 0.5860\n",
            "Epoch 186/200\n",
            "1407/1407 [==============================] - 5s 3ms/step - loss: 1.1408 - accuracy: 0.5957 - val_loss: 1.1766 - val_accuracy: 0.5918\n",
            "Epoch 187/200\n",
            "1407/1407 [==============================] - 5s 4ms/step - loss: 1.1473 - accuracy: 0.5949 - val_loss: 1.1777 - val_accuracy: 0.5880\n",
            "Epoch 188/200\n",
            "1407/1407 [==============================] - 5s 4ms/step - loss: 1.1475 - accuracy: 0.5948 - val_loss: 1.1974 - val_accuracy: 0.5820\n",
            "Epoch 189/200\n",
            "1407/1407 [==============================] - 5s 4ms/step - loss: 1.1387 - accuracy: 0.5975 - val_loss: 1.1826 - val_accuracy: 0.5900\n",
            "Epoch 190/200\n",
            "1407/1407 [==============================] - 5s 4ms/step - loss: 1.1429 - accuracy: 0.5984 - val_loss: 1.1772 - val_accuracy: 0.5866\n",
            "Epoch 191/200\n",
            "1407/1407 [==============================] - 5s 4ms/step - loss: 1.1515 - accuracy: 0.5945 - val_loss: 1.2013 - val_accuracy: 0.5822\n",
            "Epoch 192/200\n",
            "1407/1407 [==============================] - 5s 4ms/step - loss: 1.1293 - accuracy: 0.6003 - val_loss: 1.1787 - val_accuracy: 0.5846\n",
            "Epoch 193/200\n",
            "1407/1407 [==============================] - 5s 4ms/step - loss: 1.1390 - accuracy: 0.5987 - val_loss: 1.1751 - val_accuracy: 0.5970\n",
            "Epoch 194/200\n",
            "1407/1407 [==============================] - 5s 4ms/step - loss: 1.1425 - accuracy: 0.5961 - val_loss: 1.1777 - val_accuracy: 0.5894\n",
            "Epoch 195/200\n",
            "1407/1407 [==============================] - 5s 4ms/step - loss: 1.1319 - accuracy: 0.6001 - val_loss: 1.1678 - val_accuracy: 0.5802\n",
            "Epoch 196/200\n",
            "1407/1407 [==============================] - 5s 4ms/step - loss: 1.1281 - accuracy: 0.6028 - val_loss: 1.1925 - val_accuracy: 0.5810\n",
            "Epoch 197/200\n",
            "1407/1407 [==============================] - 5s 4ms/step - loss: 1.1257 - accuracy: 0.6010 - val_loss: 1.1617 - val_accuracy: 0.5942\n",
            "Epoch 198/200\n",
            "1407/1407 [==============================] - 5s 4ms/step - loss: 1.1382 - accuracy: 0.5994 - val_loss: 1.1860 - val_accuracy: 0.5902\n",
            "Epoch 199/200\n",
            "1407/1407 [==============================] - 5s 4ms/step - loss: 1.1278 - accuracy: 0.6033 - val_loss: 1.1764 - val_accuracy: 0.5874\n",
            "Epoch 200/200\n",
            "1407/1407 [==============================] - 5s 4ms/step - loss: 1.1278 - accuracy: 0.6052 - val_loss: 1.1754 - val_accuracy: 0.5866\n",
            "313/313 [==============================] - 1s 3ms/step - loss: 1438.5760 - accuracy: 0.1831\n"
          ],
          "name": "stdout"
        },
        {
          "output_type": "execute_result",
          "data": {
            "text/plain": [
              "[1438.5760498046875, 0.18310000002384186]"
            ]
          },
          "metadata": {
            "tags": []
          },
          "execution_count": 7
        }
      ]
    },
    {
      "cell_type": "code",
      "metadata": {
        "colab": {
          "base_uri": "https://localhost:8080/"
        },
        "id": "CDZ291W--jeW",
        "outputId": "fd6dc325-d7e6-4dd0-d8c9-f26c3035c29d"
      },
      "source": [
        "model.evaluate(X_test, Y_test, verbose=1)"
      ],
      "execution_count": 32,
      "outputs": [
        {
          "output_type": "stream",
          "text": [
            "313/313 [==============================] - 1s 2ms/step - loss: 1.1965 - accuracy: 0.5733\n"
          ],
          "name": "stdout"
        },
        {
          "output_type": "execute_result",
          "data": {
            "text/plain": [
              "[1.196450114250183, 0.5733000040054321]"
            ]
          },
          "metadata": {
            "tags": []
          },
          "execution_count": 32
        }
      ]
    },
    {
      "cell_type": "markdown",
      "metadata": {
        "id": "6KtbnRq-B1UD"
      },
      "source": [
        "https://www.cs.toronto.edu/~kriz/cifar.html"
      ]
    },
    {
      "cell_type": "code",
      "metadata": {
        "colab": {
          "base_uri": "https://localhost:8080/",
          "height": 283
        },
        "id": "azmoekiN-7lX",
        "outputId": "4ae63f82-3adb-4b57-ec73-21f6c272fe32"
      },
      "source": [
        "pred_img = np.expand_dims(X_test[4], axis=0)\n",
        "\n",
        "plt.imshow(X_test[4])\n",
        "\n",
        "result = model.predict(pred_img)\n",
        "\n",
        "np.argmax(result, axis=1)\n"
      ],
      "execution_count": 31,
      "outputs": [
        {
          "output_type": "execute_result",
          "data": {
            "text/plain": [
              "array([6])"
            ]
          },
          "metadata": {
            "tags": []
          },
          "execution_count": 31
        },
        {
          "output_type": "display_data",
          "data": {
            "image/png": "[encoded data removed]",
            "text/plain": [
              "<Figure size 432x288 with 1 Axes>"
            ]
          },
          "metadata": {
            "tags": [],
            "needs_background": "light"
          }
        }
      ]
    }
  ]
}